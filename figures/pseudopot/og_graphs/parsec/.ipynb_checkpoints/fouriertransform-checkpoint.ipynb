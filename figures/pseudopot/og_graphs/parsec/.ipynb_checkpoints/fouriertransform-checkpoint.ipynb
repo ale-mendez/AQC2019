{
 "cells": [
  {
   "cell_type": "code",
   "execution_count": 26,
   "metadata": {},
   "outputs": [],
   "source": [
    "import pandas as pd\n",
    "import numpy as np\n",
    "from mpl_toolkits.mplot3d import Axes3D\n",
    "import matplotlib.pyplot as plt\n",
    "\n",
    "df = pd.read_table('parsec_2sli.dat',sep='\\s+',header=None, skip_blank_lines=True).dropna()\n",
    "data=np.array(df)"
   ]
  },
  {
   "cell_type": "code",
   "execution_count": 28,
   "metadata": {},
   "outputs": [],
   "source": [
    "r = data[:,0]\n",
    "#pp = data[:,1]\n",
    "#pc = -pp*r/6\n",
    "pc=data[:,1]"
   ]
  },
  {
   "cell_type": "code",
   "execution_count": 31,
   "metadata": {},
   "outputs": [
    {
     "data": {
      "image/png": "[encoded data removed]",
      "text/plain": [
       "<matplotlib.figure.Figure at 0x7f15ad7522d0>"
      ]
     },
     "metadata": {
      "needs_background": "light"
     },
     "output_type": "display_data"
    }
   ],
   "source": [
    "fig1 = plt.figure(figsize=(8, 7))\n",
    "ax1 = fig1.add_subplot(1,1,1)\n",
    "#plt.plot(r, pp, 'r')\n",
    "plt.semilogx(r,pc,'r')\n",
    "ax1.set_xlabel('r (a.u.)')\n",
    "ax1.set_ylabel('Z_r(r)');\n",
    "plt.show()"
   ]
  },
  {
   "cell_type": "code",
   "execution_count": null,
   "metadata": {},
   "outputs": [],
   "source": [
    "import numpy as np\n",
    "import matplotlib.pyplot as plt\n",
    "from scipy.stats import norm\n",
    "\n",
    "def norm_sym_fft(y, T, max_freq=None):\n",
    "    N = y.shape[0]\n",
    "    b = N if max_freq is None else int(max_freq * T + N // 2)\n",
    "    a = N - b\n",
    "    xf = np.linspace(-0.5 * N / T, 0.5 * N / T, N)\n",
    "    yf = 2.0 / N * np.fft.fftshift(np.fft.fft(y))\n",
    "    return xf[a:b], yf[a:b]\n",
    "\n",
    "x1 = -10.0\n",
    "x2 = 10.0\n",
    "N = 10000\n",
    "T = x2 - x1\n",
    "\n",
    "x = np.linspace(x1, x2, N)\n",
    "y = light_intensity(x, 10.0, 0.0)\n",
    "xf, yf = norm_sym_fft(y, T, 4 / np.pi)\n",
    "\n",
    "fig, ax = plt.subplots(2)\n",
    "ax[0].plot(x, y)\n",
    "ax[1].plot(xf, np.abs(yf))\n",
    "plt.show()"
   ]
  }
 ],
 "metadata": {
  "kernelspec": {
   "display_name": "Python 3",
   "language": "python",
   "name": "python3"
  },
  "language_info": {
   "codemirror_mode": {
    "name": "ipython",
    "version": 2
   },
   "file_extension": ".py",
   "mimetype": "text/x-python",
   "name": "python",
   "nbconvert_exporter": "python",
   "pygments_lexer": "ipython2",
   "version": "2.7.14"
  }
 },
 "nbformat": 4,
 "nbformat_minor": 2
}
